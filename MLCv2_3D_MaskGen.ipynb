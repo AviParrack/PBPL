{
 "cells": [
  {
   "cell_type": "markdown",
   "id": "a3c23484-6858-40d8-a919-99880c69b61a",
   "metadata": {},
   "source": [
    "# Reframe Nathan's Mask Stack"
   ]
  },
  {
   "cell_type": "code",
   "execution_count": 2,
   "id": "7f615523-f2f2-41d8-a886-87ce7e794ea2",
   "metadata": {
    "tags": []
   },
   "outputs": [],
   "source": [
    "import os\n",
    "from PIL import Image, ImageOps\n",
    "\n",
    "def reframe_and_save(input_path, output_directory):\n",
    "    # Load the original image\n",
    "    original_image = Image.open(input_path)\n",
    "\n",
    "    # Scale the image up by 4\n",
    "    resized_image = original_image.resize((4800, 3200))\n",
    "\n",
    "    # Calculate padding size to make the final image 6000x6000\n",
    "    padding = (6000 - resized_image.width) // 2, (6000 - resized_image.height) // 2\n",
    "\n",
    "    # Add a white border around the image\n",
    "    border_image = ImageOps.expand(resized_image, padding, fill='white')\n",
    "\n",
    "    # Save the bitmap image with border as a .pbm file\n",
    "    filename = os.path.basename(input_path)\n",
    "    new_filename = filename.replace(\".pbm\", \".pbm\")\n",
    "    border_image.save(os.path.join(output_directory, new_filename))\n",
    "\n",
    "    # Scale down the image by a factor of 4\n",
    "    scaled_down_image = border_image.resize((border_image.width // 4, border_image.height // 4))\n",
    "\n",
    "    # Save the scaled down image as a .png file\n",
    "    new_filename_png = new_filename.replace(\".pbm\", \".png\")\n",
    "    scaled_down_image.save(os.path.join(output_directory, new_filename_png))\n",
    "\n",
    "\n",
    "# Define the directory of the input images\n",
    "input_directory = \"mask_output\"\n",
    "\n",
    "# Create the directory if it doesn't exist\n",
    "output_directory = \"A:\\PBPL\\MLCv2-3D-norot\"\n",
    "if not os.path.exists(output_directory):\n",
    "    os.makedirs(output_directory)\n",
    "\n",
    "# Get a list of all .pbm files in the input directory\n",
    "input_files = [f for f in os.listdir(input_directory) if f.endswith(\".pbm\")]\n",
    "\n",
    "# Apply the operation to every file\n",
    "for input_filename in input_files:\n",
    "    input_path = os.path.join(input_directory, input_filename)\n",
    "    reframe_and_save(input_path, output_directory)\n"
   ]
  },
  {
   "cell_type": "markdown",
   "id": "33895c3a-72db-498f-818b-92bb0fdac487",
   "metadata": {},
   "source": [
    "# Reframe and Scale Down Nathans Mask Stack"
   ]
  },
  {
   "cell_type": "code",
   "execution_count": 1,
   "id": "e73a5a34-7f40-406b-a6ae-b3ad3918e3da",
   "metadata": {
    "tags": []
   },
   "outputs": [],
   "source": [
    "import os\n",
    "from PIL import Image, ImageOps\n",
    "\n",
    "def reframe_and_save(input_path, output_directory):\n",
    "    # Load the original image\n",
    "    original_image = Image.open(input_path)\n",
    "\n",
    "    # Scale the image up by 4\n",
    "    resized_image = original_image.resize((4800, 3200))\n",
    "\n",
    "    # Calculate padding size to make the final image 6000x6000\n",
    "    padding = (6000 - resized_image.width) // 2, (6000 - resized_image.height) // 2\n",
    "\n",
    "    # Add a white border around the image\n",
    "    border_image = ImageOps.expand(resized_image, padding, fill='white')\n",
    "\n",
    "    # Save the bitmap image with border as a .pbm file\n",
    "    filename = os.path.basename(input_path)\n",
    "    new_filename = filename.replace(\".pbm\", \".pbm\")\n",
    "    border_image.save(os.path.join(output_directory, new_filename))\n",
    "\n",
    "    # Scale down the image by a factor of 10 from its original size\n",
    "    final_width = original_image.width // 4\n",
    "    final_height = original_image.height // 4\n",
    "    scaled_down_image = border_image.resize((final_width, final_height))\n",
    "\n",
    "    # Save the scaled down image as a .png file\n",
    "    new_filename_png = new_filename.replace(\".pbm\", \".png\")\n",
    "    scaled_down_image.save(os.path.join(output_directory, new_filename_png))\n",
    "\n",
    "# Define the directory of the input images\n",
    "input_directory = \"Nathans_mask_output_1deg\"\n",
    "\n",
    "# Create the directory if it doesn't exist\n",
    "output_directory = \"A:\\\\PBPL\\\\MLCv2-3D-1degrot\"\n",
    "if not os.path.exists(output_directory):\n",
    "    os.makedirs(output_directory)\n",
    "\n",
    "# Get a list of all .pbm files in the input directory\n",
    "input_files = [f for f in os.listdir(input_directory) if f.endswith(\".pbm\")]\n",
    "\n",
    "# Apply the operation to every file\n",
    "for input_filename in input_files:\n",
    "    input_path = os.path.join(input_directory, input_filename)\n",
    "    reframe_and_save(input_path, output_directory)\n"
   ]
  },
  {
   "cell_type": "code",
   "execution_count": null,
   "id": "14058845-2bc4-40e0-b23b-cefb875a1c88",
   "metadata": {},
   "outputs": [],
   "source": []
  }
 ],
 "metadata": {
  "kernelspec": {
   "display_name": "Python 3 (ipykernel)",
   "language": "python",
   "name": "python3"
  },
  "language_info": {
   "codemirror_mode": {
    "name": "ipython",
    "version": 3
   },
   "file_extension": ".py",
   "mimetype": "text/x-python",
   "name": "python",
   "nbconvert_exporter": "python",
   "pygments_lexer": "ipython3",
   "version": "3.10.6"
  }
 },
 "nbformat": 4,
 "nbformat_minor": 5
}
