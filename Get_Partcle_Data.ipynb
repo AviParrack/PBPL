{
 "cells": [
  {
   "cell_type": "markdown",
   "id": "b8ac9ac5-afd2-41b9-98ce-004ee2b055e9",
   "metadata": {},
   "source": [
    "# Create partcl.data File\n",
    "\n",
    "This script should find the final step in the opal output file, print the final step and particle count, then write a .data file following the partcle.data format to use as input for EEX beamline."
   ]
  },
  {
   "cell_type": "code",
   "execution_count": 2,
   "id": "7e925229-59a2-4e60-bb16-9efc63c0d31c",
   "metadata": {
    "tags": []
   },
   "outputs": [
    {
     "name": "stdout",
     "output_type": "stream",
     "text": [
      "Final step: 3\n",
      "Number of particles: 100000\n"
     ]
    }
   ],
   "source": [
    "import h5py\n",
    "\n",
    "def get_final_step_and_particles(dataopal):\n",
    "    keys = sorted(list(dataopal.keys()))\n",
    "    final_step_key = keys[-1]\n",
    "    final_step = int(final_step_key.strip('Step#'))\n",
    "    \n",
    "    num_particles = len(dataopal[f'Step#{final_step}/x'])\n",
    "\n",
    "    return final_step, num_particles\n",
    "\n",
    "def extract_phase_space_data(dataopal, step):\n",
    "    x = dataopal[f'Step#{step}/x'][:]\n",
    "    px = dataopal[f'Step#{step}/px'][:]\n",
    "    y = dataopal[f'Step#{step}/y'][:]\n",
    "    py = dataopal[f'Step#{step}/py'][:]\n",
    "    z = dataopal[f'Step#{step}/z'][:]\n",
    "    pz = dataopal[f'Step#{step}/pz'][:]\n",
    "    \n",
    "    return x, px, y, py, z, pz\n",
    "\n",
    "def write_data_file(filename, num_particles, x, px, y, py, z, pz):\n",
    "    with open(filename, 'w') as f:\n",
    "        f.write(f\"{num_particles}\\n\")\n",
    "        for i in range(num_particles):\n",
    "            f.write(f\"{x[i]} {px[i]} {y[i]} {py[i]} {z[i]} {pz[i]}\\n\")\n",
    "\n",
    "parent_dir = \"A:\\\\PBPL\\\\\"\n",
    "opalout = \"DriveLinac.h5\"\n",
    "\n",
    "with h5py.File(parent_dir + opalout, 'r') as dataopal:\n",
    "    final_step, num_particles = get_final_step_and_particles(dataopal)\n",
    "    print(f\"Final step: {final_step}\\nNumber of particles: {num_particles}\")\n",
    "    \n",
    "    x, px, y, py, z, pz = extract_phase_space_data(dataopal, final_step)\n",
    "    \n",
    "data_filename = f\"partcl.data\"\n",
    "write_data_file(data_filename, num_particles, x, px, y, py, z, pz)\n"
   ]
  },
  {
   "cell_type": "code",
   "execution_count": null,
   "id": "77a47f79-0a59-4360-bc8c-a53f905eb704",
   "metadata": {},
   "outputs": [],
   "source": []
  }
 ],
 "metadata": {
  "kernelspec": {
   "display_name": "Python 3 (ipykernel)",
   "language": "python",
   "name": "python3"
  },
  "language_info": {
   "codemirror_mode": {
    "name": "ipython",
    "version": 3
   },
   "file_extension": ".py",
   "mimetype": "text/x-python",
   "name": "python",
   "nbconvert_exporter": "python",
   "pygments_lexer": "ipython3",
   "version": "3.10.6"
  }
 },
 "nbformat": 4,
 "nbformat_minor": 5
}
