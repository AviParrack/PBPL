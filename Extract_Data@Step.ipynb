{
 "cells": [
  {
   "cell_type": "markdown",
   "id": "7792300f-bec9-47b4-ad89-d8916a87d88b",
   "metadata": {},
   "source": [
    "# Extract Step IDs and Data"
   ]
  },
  {
   "cell_type": "code",
   "execution_count": 2,
   "id": "caeb79a8-ef35-47f1-8fb4-e7d19e408247",
   "metadata": {
    "tags": []
   },
   "outputs": [
    {
     "name": "stdout",
     "output_type": "stream",
     "text": [
      "Step: 442\n",
      "Number of particles: 29319\n"
     ]
    }
   ],
   "source": [
    "import h5py\n",
    "\n",
    "def get_num_particles(dataopal, step):\n",
    "    num_particles = len(dataopal[f'Step#{step}/x'])\n",
    "    return num_particles\n",
    "\n",
    "def extract_phase_space_data(dataopal, step):\n",
    "    x = dataopal[f'Step#{step}/x'][:]\n",
    "    px = dataopal[f'Step#{step}/px'][:]\n",
    "    y = dataopal[f'Step#{step}/y'][:]\n",
    "    py = dataopal[f'Step#{step}/py'][:]\n",
    "    z = dataopal[f'Step#{step}/z'][:]\n",
    "    pz = dataopal[f'Step#{step}/pz'][:]\n",
    "    ids = dataopal[f'Step#{step}/id'][:]\n",
    "    \n",
    "    return ids, x, px, y, py, z, pz\n",
    "\n",
    "def write_data_file(filename, num_particles, ids, x, px, y, py, z, pz, cutoff=None):\n",
    "    with open(filename, 'w') as f:\n",
    "        f.write(f\"{num_particles}\\n\")\n",
    "        num_lines_to_write = num_particles if cutoff is None else min(num_particles, cutoff)\n",
    "        for i in range(num_lines_to_write):\n",
    "            f.write(f\"{ids[i]} {x[i]} {px[i]} {y[i]} {py[i]} {z[i]} {pz[i]}\\n\")\n",
    "\n",
    "parent_dir = \"A:\\\\PBPL\\\\\"\n",
    "opalout = \"input_2.h5\"\n",
    "\n",
    "desired_step = 442  # Set the desired step number here\n",
    "cutoff = None  # Set the cutoff for the number of lines to be written\n",
    "\n",
    "with h5py.File(parent_dir + opalout, 'r+') as dataopal:\n",
    "    num_particles = get_num_particles(dataopal, desired_step)\n",
    "    print(f\"Step: {desired_step}\\nNumber of particles: {num_particles}\")\n",
    "    \n",
    "    ids, x, px, y, py, z, pz = extract_phase_space_data(dataopal, desired_step)\n",
    "    \n",
    "data_filename = f\"Parameter_Mask_2_s{desired_step}.data\"\n",
    "write_data_file(data_filename, num_particles, ids, x, px, y, py, z, pz, cutoff=cutoff)\n"
   ]
  },
  {
   "cell_type": "code",
   "execution_count": null,
   "id": "d620a8e6-6e77-4703-9deb-821453a20be5",
   "metadata": {},
   "outputs": [],
   "source": []
  }
 ],
 "metadata": {
  "kernelspec": {
   "display_name": "Python 3 (ipykernel)",
   "language": "python",
   "name": "python3"
  },
  "language_info": {
   "codemirror_mode": {
    "name": "ipython",
    "version": 3
   },
   "file_extension": ".py",
   "mimetype": "text/x-python",
   "name": "python",
   "nbconvert_exporter": "python",
   "pygments_lexer": "ipython3",
   "version": "3.10.6"
  }
 },
 "nbformat": 4,
 "nbformat_minor": 5
}
